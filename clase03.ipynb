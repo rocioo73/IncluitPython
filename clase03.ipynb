{
 "cells": [
  {
   "cell_type": "code",
   "execution_count": 1,
   "metadata": {},
   "outputs": [],
   "source": [
    "cadena, numero, lista = \"Hola MET\", 123456, [7,8,9,0]"
   ]
  },
  {
   "cell_type": "code",
   "execution_count": 2,
   "metadata": {},
   "outputs": [],
   "source": [
    "tupla = (11, \"Chau MET\", True, None)"
   ]
  },
  {
   "cell_type": "code",
   "execution_count": 3,
   "metadata": {},
   "outputs": [],
   "source": [
    "diccionario = {\"nombre\":\"Rodrigo\", \"apellido\":\"Gonzalez\"}"
   ]
  },
  {
   "cell_type": "code",
   "execution_count": 4,
   "metadata": {},
   "outputs": [
    {
     "data": {
      "text/plain": [
       "{'__name__': '__main__',\n",
       " '__doc__': 'Automatically created module for IPython interactive environment',\n",
       " '__package__': None,\n",
       " '__loader__': None,\n",
       " '__spec__': None,\n",
       " '__builtin__': <module 'builtins' (built-in)>,\n",
       " '__builtins__': <module 'builtins' (built-in)>,\n",
       " '_ih': ['',\n",
       "  'cadena, numero, lista = \"Hola MET\", 123456, [7,8,9,0]',\n",
       "  'tupla = (11, \"Chau MET\", True, None)',\n",
       "  'diccionario = {\"nombre\":\"Rodrigo\", \"apellido\":\"Gonzalez\"}',\n",
       "  'vars()'],\n",
       " '_oh': {},\n",
       " '_dh': ['C:\\\\Users\\\\Rocío Amaranto\\\\incluit'],\n",
       " 'In': ['',\n",
       "  'cadena, numero, lista = \"Hola MET\", 123456, [7,8,9,0]',\n",
       "  'tupla = (11, \"Chau MET\", True, None)',\n",
       "  'diccionario = {\"nombre\":\"Rodrigo\", \"apellido\":\"Gonzalez\"}',\n",
       "  'vars()'],\n",
       " 'Out': {},\n",
       " 'get_ipython': <bound method InteractiveShell.get_ipython of <ipykernel.zmqshell.ZMQInteractiveShell object at 0x000001E9ADD625F8>>,\n",
       " 'exit': <IPython.core.autocall.ZMQExitAutocall at 0x1e9add7db38>,\n",
       " 'quit': <IPython.core.autocall.ZMQExitAutocall at 0x1e9add7db38>,\n",
       " '_': '',\n",
       " '__': '',\n",
       " '___': '',\n",
       " '_i': 'diccionario = {\"nombre\":\"Rodrigo\", \"apellido\":\"Gonzalez\"}',\n",
       " '_ii': 'tupla = (11, \"Chau MET\", True, None)',\n",
       " '_iii': 'cadena, numero, lista = \"Hola MET\", 123456, [7,8,9,0]',\n",
       " '_i1': 'cadena, numero, lista = \"Hola MET\", 123456, [7,8,9,0]',\n",
       " 'cadena': 'Hola MET',\n",
       " 'numero': 123456,\n",
       " 'lista': [7, 8, 9, 0],\n",
       " '_i2': 'tupla = (11, \"Chau MET\", True, None)',\n",
       " 'tupla': (11, 'Chau MET', True, None),\n",
       " '_i3': 'diccionario = {\"nombre\":\"Rodrigo\", \"apellido\":\"Gonzalez\"}',\n",
       " 'diccionario': {'nombre': 'Rodrigo', 'apellido': 'Gonzalez'},\n",
       " '_i4': 'vars()'}"
      ]
     },
     "execution_count": 4,
     "metadata": {},
     "output_type": "execute_result"
    }
   ],
   "source": [
    "vars()"
   ]
  },
  {
   "cell_type": "code",
   "execution_count": 5,
   "metadata": {},
   "outputs": [],
   "source": [
    "del cadena"
   ]
  },
  {
   "cell_type": "code",
   "execution_count": 6,
   "metadata": {},
   "outputs": [
    {
     "data": {
      "text/plain": [
       "{'__name__': '__main__',\n",
       " '__doc__': 'Automatically created module for IPython interactive environment',\n",
       " '__package__': None,\n",
       " '__loader__': None,\n",
       " '__spec__': None,\n",
       " '__builtin__': <module 'builtins' (built-in)>,\n",
       " '__builtins__': <module 'builtins' (built-in)>,\n",
       " '_ih': ['',\n",
       "  'cadena, numero, lista = \"Hola MET\", 123456, [7,8,9,0]',\n",
       "  'tupla = (11, \"Chau MET\", True, None)',\n",
       "  'diccionario = {\"nombre\":\"Rodrigo\", \"apellido\":\"Gonzalez\"}',\n",
       "  'vars()',\n",
       "  'del cadena',\n",
       "  'vars()'],\n",
       " '_oh': {4: {...}},\n",
       " '_dh': ['C:\\\\Users\\\\Rocío Amaranto\\\\incluit'],\n",
       " 'In': ['',\n",
       "  'cadena, numero, lista = \"Hola MET\", 123456, [7,8,9,0]',\n",
       "  'tupla = (11, \"Chau MET\", True, None)',\n",
       "  'diccionario = {\"nombre\":\"Rodrigo\", \"apellido\":\"Gonzalez\"}',\n",
       "  'vars()',\n",
       "  'del cadena',\n",
       "  'vars()'],\n",
       " 'Out': {4: {...}},\n",
       " 'get_ipython': <bound method InteractiveShell.get_ipython of <ipykernel.zmqshell.ZMQInteractiveShell object at 0x000001E9ADD625F8>>,\n",
       " 'exit': <IPython.core.autocall.ZMQExitAutocall at 0x1e9add7db38>,\n",
       " 'quit': <IPython.core.autocall.ZMQExitAutocall at 0x1e9add7db38>,\n",
       " '_': {...},\n",
       " '__': '',\n",
       " '___': '',\n",
       " '_i': 'del cadena',\n",
       " '_ii': 'vars()',\n",
       " '_iii': 'diccionario = {\"nombre\":\"Rodrigo\", \"apellido\":\"Gonzalez\"}',\n",
       " '_i1': 'cadena, numero, lista = \"Hola MET\", 123456, [7,8,9,0]',\n",
       " 'numero': 123456,\n",
       " 'lista': [7, 8, 9, 0],\n",
       " '_i2': 'tupla = (11, \"Chau MET\", True, None)',\n",
       " 'tupla': (11, 'Chau MET', True, None),\n",
       " '_i3': 'diccionario = {\"nombre\":\"Rodrigo\", \"apellido\":\"Gonzalez\"}',\n",
       " 'diccionario': {'nombre': 'Rodrigo', 'apellido': 'Gonzalez'},\n",
       " '_i4': 'vars()',\n",
       " '_4': {...},\n",
       " '_i5': 'del cadena',\n",
       " '_i6': 'vars()'}"
      ]
     },
     "execution_count": 6,
     "metadata": {},
     "output_type": "execute_result"
    }
   ],
   "source": [
    "vars()"
   ]
  },
  {
   "cell_type": "code",
   "execution_count": 7,
   "metadata": {},
   "outputs": [],
   "source": [
    "del numero, lista, tupla, diccionario"
   ]
  },
  {
   "cell_type": "code",
   "execution_count": 8,
   "metadata": {},
   "outputs": [
    {
     "data": {
      "text/plain": [
       "{'__name__': '__main__',\n",
       " '__doc__': 'Automatically created module for IPython interactive environment',\n",
       " '__package__': None,\n",
       " '__loader__': None,\n",
       " '__spec__': None,\n",
       " '__builtin__': <module 'builtins' (built-in)>,\n",
       " '__builtins__': <module 'builtins' (built-in)>,\n",
       " '_ih': ['',\n",
       "  'cadena, numero, lista = \"Hola MET\", 123456, [7,8,9,0]',\n",
       "  'tupla = (11, \"Chau MET\", True, None)',\n",
       "  'diccionario = {\"nombre\":\"Rodrigo\", \"apellido\":\"Gonzalez\"}',\n",
       "  'vars()',\n",
       "  'del cadena',\n",
       "  'vars()',\n",
       "  'del numero, lista, tupla, diccionario',\n",
       "  'vars()'],\n",
       " '_oh': {4: {...}, 6: {...}},\n",
       " '_dh': ['C:\\\\Users\\\\Rocío Amaranto\\\\incluit'],\n",
       " 'In': ['',\n",
       "  'cadena, numero, lista = \"Hola MET\", 123456, [7,8,9,0]',\n",
       "  'tupla = (11, \"Chau MET\", True, None)',\n",
       "  'diccionario = {\"nombre\":\"Rodrigo\", \"apellido\":\"Gonzalez\"}',\n",
       "  'vars()',\n",
       "  'del cadena',\n",
       "  'vars()',\n",
       "  'del numero, lista, tupla, diccionario',\n",
       "  'vars()'],\n",
       " 'Out': {4: {...}, 6: {...}},\n",
       " 'get_ipython': <bound method InteractiveShell.get_ipython of <ipykernel.zmqshell.ZMQInteractiveShell object at 0x000001E9ADD625F8>>,\n",
       " 'exit': <IPython.core.autocall.ZMQExitAutocall at 0x1e9add7db38>,\n",
       " 'quit': <IPython.core.autocall.ZMQExitAutocall at 0x1e9add7db38>,\n",
       " '_': {...},\n",
       " '__': {...},\n",
       " '___': '',\n",
       " '_i': 'del numero, lista, tupla, diccionario',\n",
       " '_ii': 'vars()',\n",
       " '_iii': 'del cadena',\n",
       " '_i1': 'cadena, numero, lista = \"Hola MET\", 123456, [7,8,9,0]',\n",
       " '_i2': 'tupla = (11, \"Chau MET\", True, None)',\n",
       " '_i3': 'diccionario = {\"nombre\":\"Rodrigo\", \"apellido\":\"Gonzalez\"}',\n",
       " '_i4': 'vars()',\n",
       " '_4': {...},\n",
       " '_i5': 'del cadena',\n",
       " '_i6': 'vars()',\n",
       " '_6': {...},\n",
       " '_i7': 'del numero, lista, tupla, diccionario',\n",
       " '_i8': 'vars()'}"
      ]
     },
     "execution_count": 8,
     "metadata": {},
     "output_type": "execute_result"
    }
   ],
   "source": [
    "vars()"
   ]
  },
  {
   "cell_type": "code",
   "execution_count": 9,
   "metadata": {},
   "outputs": [],
   "source": [
    "variable1 = \"variable original\""
   ]
  },
  {
   "cell_type": "code",
   "execution_count": 20,
   "metadata": {},
   "outputs": [],
   "source": [
    "def modificar_variable_global_1():\n",
    "    variable1 = \"variable global modificada\"\n",
    "    "
   ]
  },
  {
   "cell_type": "code",
   "execution_count": 15,
   "metadata": {},
   "outputs": [
    {
     "data": {
      "text/plain": [
       "'variable original'"
      ]
     },
     "execution_count": 15,
     "metadata": {},
     "output_type": "execute_result"
    }
   ],
   "source": [
    "variable1\n"
   ]
  },
  {
   "cell_type": "raw",
   "metadata": {},
   "source": []
  },
  {
   "cell_type": "code",
   "execution_count": 18,
   "metadata": {},
   "outputs": [
    {
     "data": {
      "text/plain": [
       "'variable original'"
      ]
     },
     "execution_count": 18,
     "metadata": {},
     "output_type": "execute_result"
    }
   ],
   "source": [
    "variable1"
   ]
  },
  {
   "cell_type": "markdown",
   "metadata": {},
   "source": []
  },
  {
   "cell_type": "code",
   "execution_count": 22,
   "metadata": {},
   "outputs": [],
   "source": [
    "modificar_variable_global_1()"
   ]
  },
  {
   "cell_type": "code",
   "execution_count": 23,
   "metadata": {},
   "outputs": [
    {
     "data": {
      "text/plain": [
       "'variable original'"
      ]
     },
     "execution_count": 23,
     "metadata": {},
     "output_type": "execute_result"
    }
   ],
   "source": [
    "variable1"
   ]
  },
  {
   "cell_type": "code",
   "execution_count": 25,
   "metadata": {},
   "outputs": [],
   "source": [
    "def modificar_variable_global_2():\n",
    "    global variable1 \n",
    "    variable1= \"variable global modificada\""
   ]
  },
  {
   "cell_type": "code",
   "execution_count": 26,
   "metadata": {},
   "outputs": [
    {
     "ename": "TypeError",
     "evalue": "'str' object is not callable",
     "output_type": "error",
     "traceback": [
      "\u001b[1;31m---------------------------------------------------------------------------\u001b[0m",
      "\u001b[1;31mTypeError\u001b[0m                                 Traceback (most recent call last)",
      "\u001b[1;32m<ipython-input-26-292e8abfc8b5>\u001b[0m in \u001b[0;36m<module>\u001b[1;34m\u001b[0m\n\u001b[1;32m----> 1\u001b[1;33m \u001b[0mvariable1\u001b[0m\u001b[1;33m(\u001b[0m\u001b[1;33m)\u001b[0m\u001b[1;33m\u001b[0m\u001b[1;33m\u001b[0m\u001b[0m\n\u001b[0m",
      "\u001b[1;31mTypeError\u001b[0m: 'str' object is not callable"
     ]
    }
   ],
   "source": [
    "variable1()"
   ]
  },
  {
   "cell_type": "raw",
   "metadata": {},
   "source": []
  },
  {
   "cell_type": "code",
   "execution_count": 27,
   "metadata": {},
   "outputs": [
    {
     "data": {
      "text/plain": [
       "'variable original'"
      ]
     },
     "execution_count": 27,
     "metadata": {},
     "output_type": "execute_result"
    }
   ],
   "source": [
    "variable1"
   ]
  },
  {
   "cell_type": "markdown",
   "metadata": {},
   "source": []
  },
  {
   "cell_type": "code",
   "execution_count": 28,
   "metadata": {},
   "outputs": [],
   "source": [
    "modificar_variable_global_2()"
   ]
  },
  {
   "cell_type": "code",
   "execution_count": 29,
   "metadata": {},
   "outputs": [
    {
     "data": {
      "text/plain": [
       "'variable global modificada'"
      ]
     },
     "execution_count": 29,
     "metadata": {},
     "output_type": "execute_result"
    }
   ],
   "source": [
    "variable1"
   ]
  },
  {
   "cell_type": "raw",
   "metadata": {},
   "source": []
  },
  {
   "cell_type": "code",
   "execution_count": 30,
   "metadata": {},
   "outputs": [
    {
     "data": {
      "text/plain": [
       "15"
      ]
     },
     "execution_count": 30,
     "metadata": {},
     "output_type": "execute_result"
    }
   ],
   "source": [
    "r=5;r+=10;r\n"
   ]
  },
  {
   "cell_type": "raw",
   "metadata": {},
   "source": []
  },
  {
   "cell_type": "code",
   "execution_count": 31,
   "metadata": {},
   "outputs": [
    {
     "data": {
      "text/plain": [
       "25"
      ]
     },
     "execution_count": 31,
     "metadata": {},
     "output_type": "execute_result"
    }
   ],
   "source": [
    "r=10;r-=-15;r"
   ]
  },
  {
   "cell_type": "code",
   "execution_count": 32,
   "metadata": {},
   "outputs": [
    {
     "data": {
      "text/plain": [
       "25"
      ]
     },
     "execution_count": 32,
     "metadata": {},
     "output_type": "execute_result"
    }
   ],
   "source": [
    "r\n"
   ]
  },
  {
   "cell_type": "code",
   "execution_count": 33,
   "metadata": {},
   "outputs": [
    {
     "data": {
      "text/plain": [
       "-5"
      ]
     },
     "execution_count": 33,
     "metadata": {},
     "output_type": "execute_result"
    }
   ],
   "source": [
    "r=5;r-=10;r"
   ]
  },
  {
   "cell_type": "code",
   "execution_count": null,
   "metadata": {},
   "outputs": [],
   "source": []
  }
 ],
 "metadata": {
  "kernelspec": {
   "display_name": "Python 3",
   "language": "python",
   "name": "python3"
  },
  "language_info": {
   "codemirror_mode": {
    "name": "ipython",
    "version": 3
   },
   "file_extension": ".py",
   "mimetype": "text/x-python",
   "name": "python",
   "nbconvert_exporter": "python",
   "pygments_lexer": "ipython3",
   "version": "3.7.3"
  }
 },
 "nbformat": 4,
 "nbformat_minor": 2
}
